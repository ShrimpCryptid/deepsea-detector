{
 "cells": [
  {
   "cell_type": "markdown",
   "metadata": {},
   "source": [
    "# WoRMS Query\n",
    "### 5/11/22\n",
    "\n",
    "[WoRMS API Documentation](https://www.marinespecies.org/aphia.php?p=webservice)\n"
   ]
  },
  {
   "cell_type": "code",
   "execution_count": 2,
   "metadata": {},
   "outputs": [
    {
     "name": "stdout",
     "output_type": "stream",
     "text": [
      "Requirement already satisfied: requests in c:\\programdata\\anaconda3\\lib\\site-packages (2.22.0)\n",
      "Requirement already satisfied: certifi>=2017.4.17 in c:\\programdata\\anaconda3\\lib\\site-packages (from requests) (2019.9.11)\n",
      "Requirement already satisfied: urllib3!=1.25.0,!=1.25.1,<1.26,>=1.21.1 in c:\\programdata\\anaconda3\\lib\\site-packages (from requests) (1.24.2)\n",
      "Requirement already satisfied: idna<2.9,>=2.5 in c:\\programdata\\anaconda3\\lib\\site-packages (from requests) (2.8)\n",
      "Requirement already satisfied: chardet<3.1.0,>=3.0.2 in c:\\programdata\\anaconda3\\lib\\site-packages (from requests) (3.0.4)\n",
      "Note: you may need to restart the kernel to use updated packages.\n"
     ]
    }
   ],
   "source": [
    "%pip install requests\n",
    "import requests"
   ]
  },
  {
   "cell_type": "markdown",
   "metadata": {},
   "source": [
    "## By Scientic Name\n",
    "/AphiaIDByName/{ScientificName}\n"
   ]
  },
  {
   "cell_type": "code",
   "execution_count": null,
   "metadata": {},
   "outputs": [],
   "source": [
    "import urllib.parse\n",
    "\n",
    "def get_worms_record_precise(scientific_name):\n",
    "    parsed_name = urllib.parse.quote(scientific_name)\n",
    "    url = \"https://www.marinespecies.org/rest/AphiaIDByName/\" + parsed_name\n",
    "    response = requests.get(url)\n",
    "    return response.json\n",
    "    "
   ]
  },
  {
   "cell_type": "markdown",
   "metadata": {},
   "source": [
    "## Fuzzy Search\n",
    "Useful if the exact match can't be found!\n",
    "\n",
    "/AphiaRecordsByMatchNames\n",
    "\n",
    "Input:\n",
    "scientificnames[] (array)\n",
    "marine_only (bool)"
   ]
  },
  {
   "cell_type": "code",
   "execution_count": 26,
   "metadata": {},
   "outputs": [
    {
     "name": "stdout",
     "output_type": "stream",
     "text": [
      "['Porlia%20rufescens', 'a']\n",
      "https://www.marinespecies.org/rest/AphiaRecordsByMatchNames?scientificnames[]=Porlia%20rufescens&scientificnames[]=a&marine_only=true\n",
      "200\n",
      "[[{'AphiaID': 135310, 'url': 'https://www.marinespecies.org/aphia.php?p=taxdetails&id=135310', 'scientificname': 'Poralia rufescens', 'authority': 'Vanhöffen, 1902', 'status': 'accepted', 'unacceptreason': None, 'taxonRankID': 220, 'rank': 'Species', 'valid_AphiaID': 135310, 'valid_name': 'Poralia rufescens', 'valid_authority': 'Vanhöffen, 1902', 'parentNameUsageID': 135267, 'kingdom': 'Animalia', 'phylum': 'Cnidaria', 'class': 'Scyphozoa', 'order': 'Semaeostomeae', 'family': 'Ulmaridae', 'genus': 'Poralia', 'citation': 'Collins, A. G.; Jarms, G.; Morandini, A. C. (2022). World List of Scyphozoa. Poralia rufescens Vanhöffen, 1902. Accessed through: World Register of Marine Species at: https://www.marinespecies.org/aphia.php?p=taxdetails&id=135310 on 2022-05-12', 'lsid': 'urn:lsid:marinespecies.org:taxname:135310', 'isMarine': 1, 'isBrackish': 0, 'isFreshwater': 0, 'isTerrestrial': 0, 'isExtinct': 0, 'match_type': 'near_1', 'modified': '2019-12-16T00:13:05.090Z'}], []]\n"
     ]
    }
   ],
   "source": [
    "import urllib.parse\n",
    "\n",
    "\"\"\" Returns the Aphia Records from WoRMS that match the provided scientific names, using fuzzy search.\n",
    "\"\"\"\n",
    "def get_worms_record_fuzzy(names: list):\n",
    "    # handle case where name is a single string\n",
    "    if type(names) == \"str\":\n",
    "        names = [names]\n",
    "\n",
    "    url = \"https://www.marinespecies.org/rest/AphiaRecordsByMatchNames?{}&marine_only=true\"\n",
    "    # List out scientific names as URL parameters\n",
    "    parsed_names = list(map(urllib.parse.quote, names))\n",
    "    print(parsed_names)\n",
    "    names_query = \"scientificnames[]=\" + \"&scientificnames[]=\".join(parsed_names)\n",
    "    # Escape characters and insert into URL\n",
    "    url = url.format(names_query)\n",
    "    print(url)\n",
    "\n",
    "    response = requests.get(url)\n",
    "    return response\n",
    "    \n",
    "    \n",
    "example_names = [\"Porlia rufescens\"]  # deliberately misspelled :)\n",
    "response = get_worms_record_fuzzy(example_names)\n",
    "print(response.status_code)\n",
    "print(response.json())"
   ]
  },
  {
   "cell_type": "code",
   "execution_count": 41,
   "metadata": {},
   "outputs": [
    {
     "name": "stdout",
     "output_type": "stream",
     "text": [
      "Result with Poralia rufescens:\n",
      "{'AphiaID': 135310, 'url': 'https://www.marinespecies.org/aphia.php?p=taxdetails&id=135310', 'scientificname': 'Poralia rufescens', 'authority': 'Vanhöffen, 1902', 'status': 'accepted', 'unacceptreason': None, 'taxonRankID': 220, 'rank': 'Species', 'valid_AphiaID': 135310, 'valid_name': 'Poralia rufescens', 'valid_authority': 'Vanhöffen, 1902', 'parentNameUsageID': 135267, 'kingdom': 'Animalia', 'phylum': 'Cnidaria', 'class': 'Scyphozoa', 'order': 'Semaeostomeae', 'family': 'Ulmaridae', 'genus': 'Poralia', 'citation': 'Collins, A. G.; Jarms, G.; Morandini, A. C. (2022). World List of Scyphozoa. Poralia rufescens Vanhöffen, 1902. Accessed through: World Register of Marine Species at: https://www.marinespecies.org/aphia.php?p=taxdetails&id=135310 on 2022-05-12', 'lsid': 'urn:lsid:marinespecies.org:taxname:135310', 'isMarine': 1, 'isBrackish': 0, 'isFreshwater': 0, 'isTerrestrial': 0, 'isExtinct': 0, 'match_type': 'like', 'modified': '2019-12-16T00:13:05.090Z'}\n",
      "\n",
      "Result with 'Pralia rufcens':\n",
      "{'AphiaID': 135310, 'url': 'https://www.marinespecies.org/aphia.php?p=taxdetails&id=135310', 'scientificname': 'Poralia rufescens', 'authority': 'Vanhöffen, 1902', 'status': 'accepted', 'unacceptreason': None, 'taxonRankID': 220, 'rank': 'Species', 'valid_AphiaID': 135310, 'valid_name': 'Poralia rufescens', 'valid_authority': 'Vanhöffen, 1902', 'parentNameUsageID': 135267, 'kingdom': 'Animalia', 'phylum': 'Cnidaria', 'class': 'Scyphozoa', 'order': 'Semaeostomeae', 'family': 'Ulmaridae', 'genus': 'Poralia', 'citation': 'Collins, A. G.; Jarms, G.; Morandini, A. C. (2022). World List of Scyphozoa. Poralia rufescens Vanhöffen, 1902. Accessed through: World Register of Marine Species at: https://www.marinespecies.org/aphia.php?p=taxdetails&id=135310 on 2022-05-12', 'lsid': 'urn:lsid:marinespecies.org:taxname:135310', 'isMarine': 1, 'isBrackish': 0, 'isFreshwater': 0, 'isTerrestrial': 0, 'isExtinct': 0, 'match_type': 'near_3', 'modified': '2019-12-16T00:13:05.090Z'}\n"
     ]
    }
   ],
   "source": [
    "\"\"\" Tries to get the Aphia Record for a given identification name from the\n",
    "World Register of Marine Species (WoRMS).\n",
    "Searches first by exact scientific name, and then with fuzzy search.\n",
    "\n",
    "Returns None if no match was found.\n",
    "\"\"\"\n",
    "def try_get_worms_record(name):\n",
    "    # Escape non-URL characters in name\n",
    "    parsed_name = urllib.parse.quote(name)\n",
    "\n",
    "    # First try to access using the scientific name.\n",
    "    url = \"https://www.marinespecies.org/rest/AphiaRecordsByName/\" + parsed_name\n",
    "    response = requests.get(url)\n",
    "    if response.status_code == 200:\n",
    "        # Success! \n",
    "        # Response may return multiple Aphia records, so we return the first one.\n",
    "        return response.json()[0]\n",
    "\n",
    "    elif response.status_code == 204:\n",
    "        # No records found, so we try again with fuzzy search.\n",
    "        url = \"https://www.marinespecies.org/rest/AphiaRecordsByMatchNames?scientificnames[]={}&marine_only=true\"\n",
    "        url = url.format(parsed_name)\n",
    "        response = requests.get(url)\n",
    "        if (response.status_code == 200): # Success!\n",
    "            return response.json()[0][0]   \n",
    "\n",
    "    if response.status_code == 400:  # Check if either response was faulty.\n",
    "        # Likely an issue with query, so we raise an error.\n",
    "        raise RuntimeError(\"Response status code was 400 for url '{}'. Parameters may be invalid.\".format(url))\n",
    "    \n",
    "    return None\n",
    "\n",
    "print(\"Result with Poralia rufescens:\")\n",
    "print(try_get_worms_record(\"Poralia rufescens\"))\n",
    "print(\"\\nResult with 'Pralia rufcens':\")\n",
    "print(try_get_worms_record(\"Pralia rufcens\"))\n",
    "\n",
    "\n"
   ]
  }
 ],
 "metadata": {
  "interpreter": {
   "hash": "b3ba2566441a7c06988d0923437866b63cedc61552a5af99d1f4fb67d367b25f"
  },
  "kernelspec": {
   "display_name": "Python 3.7.4 64-bit ('base': conda)",
   "language": "python",
   "name": "python3"
  },
  "language_info": {
   "codemirror_mode": {
    "name": "ipython",
    "version": 3
   },
   "file_extension": ".py",
   "mimetype": "text/x-python",
   "name": "python",
   "nbconvert_exporter": "python",
   "pygments_lexer": "ipython3",
   "version": "3.7.4"
  },
  "orig_nbformat": 4
 },
 "nbformat": 4,
 "nbformat_minor": 2
}
