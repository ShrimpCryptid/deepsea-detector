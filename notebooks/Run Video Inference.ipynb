{
  "nbformat": 4,
  "nbformat_minor": 0,
  "metadata": {
    "colab": {
      "name": "Run Video Inference.ipynb",
      "provenance": [],
      "collapsed_sections": [],
      "authorship_tag": "ABX9TyMo7RR9/NnJnL1grxR9HZDg",
      "include_colab_link": true
    },
    "kernelspec": {
      "name": "python3",
      "display_name": "Python 3"
    },
    "language_info": {
      "name": "python"
    },
    "accelerator": "GPU"
  },
  "cells": [
    {
      "cell_type": "markdown",
      "metadata": {
        "id": "view-in-github",
        "colab_type": "text"
      },
      "source": [
        "<a href=\"https://colab.research.google.com/github/ShrimpCryptid/deepsea-detector/blob/main/notebooks/Run%20Video%20Inference.ipynb\" target=\"_parent\"><img src=\"https://colab.research.google.com/assets/colab-badge.svg\" alt=\"Open In Colab\"/></a>"
      ]
    },
    {
      "cell_type": "markdown",
      "source": [
        "# Video Detection and Tracking Inference\n",
        "#### Peyton Lee and Neha Nagvekar, 5/31/22\n",
        "\n",
        "Runs inference on a provided video using a trained YOLOv5 model and the Norfair tracking algorithm."
      ],
      "metadata": {
        "id": "4ZEj53rx6anC"
      }
    },
    {
      "cell_type": "markdown",
      "source": [
        "## Setup\n",
        "You'll need to download and install the Deepsea-Detector project, which you can find on [GitHub](https://github.com/ShrimpCryptid/deepsea-detector)!"
      ],
      "metadata": {
        "id": "lNsqBUB5v25H"
      }
    },
    {
      "cell_type": "code",
      "execution_count": null,
      "metadata": {
        "id": "2Y05ginU6N3V"
      },
      "outputs": [],
      "source": [
        "!git clone https://github.com/ShrimpCryptid/deepsea-detector.git"
      ]
    },
    {
      "cell_type": "code",
      "source": [
        "# Update the Deepsea-Detector project if already downloaded! \n",
        "!cd deepsea-detector; git pull"
      ],
      "metadata": {
        "id": "SqN3j5eJPRiw"
      },
      "execution_count": null,
      "outputs": []
    },
    {
      "cell_type": "code",
      "source": [
        "# This project uses Git large file system (LFS), so we need to install it and\n",
        "# fetch our large project files with it.\n",
        "!cd deepsea-detector; git lfs install; git lfs fetch; git lfs pull"
      ],
      "metadata": {
        "id": "dKson8CK19Cr"
      },
      "execution_count": null,
      "outputs": []
    },
    {
      "cell_type": "code",
      "source": [
        "# Install Deepsea-Detector's dependencies.\n",
        "!pip install -r deepsea-detector/requirements.txt -q"
      ],
      "metadata": {
        "id": "5ee0SWj56uej"
      },
      "execution_count": null,
      "outputs": []
    },
    {
      "cell_type": "markdown",
      "source": [
        "## Project Setup\n",
        "You'll need to do the following steps before processing a video.\n",
        "1. Import your model weights, which should end in `.pt`. You can use the default model included with Deepsea-Detector, or upload your own.\n",
        "2. Import the video file(s) you want to analyze."
      ],
      "metadata": {
        "id": "fFDxdCoW61vZ"
      }
    },
    {
      "cell_type": "markdown",
      "source": [
        "For example, you can download your model weights and video files from an external source using the `curl` command, or upload files to the environment.\n",
        "\n",
        "If you're using Google Colab, you can upload videos using the file browser on the left pane. *(Be warned that downloading/uploading files from Colab can be rather slow.)*"
      ],
      "metadata": {
        "id": "rHI4JtyzxKzx"
      }
    },
    {
      "cell_type": "code",
      "source": [
        "# Download an example video via URL and save it as `video.mp4`.\n",
        "video_url = \"https://data.nodc.noaa.gov/oer/video/EX1708/Video/EX1708_DIVE01_20170907/Compressed/EX1708_VID_20170907T204000Z_ROVHD_Low.mp4\"\n",
        "!curl -L {video_url} --output video.mp4"
      ],
      "metadata": {
        "id": "7pMtFcbn745D"
      },
      "execution_count": null,
      "outputs": []
    },
    {
      "cell_type": "markdown",
      "source": [
        "You can also mount a Google Drive folder to access files, which is much faster than directly uploading/downloading them from Google Colab. You'll get prompted to authorize Google Colab to make changes to your Drive."
      ],
      "metadata": {
        "id": "sKlA8bUzxfLG"
      }
    },
    {
      "cell_type": "code",
      "source": [
        "# Import and mount your Google Drive folder as a directory that Colab can access.\n",
        "from google.colab import drive\n",
        "drive.mount('/content/drive')"
      ],
      "metadata": {
        "id": "7yUqVwaHO0Pi"
      },
      "execution_count": null,
      "outputs": []
    },
    {
      "cell_type": "markdown",
      "source": [
        "### Processing a Video\n",
        "The following script runs the inference for a single video."
      ],
      "metadata": {
        "id": "CtCR48lkzVXF"
      }
    },
    {
      "cell_type": "code",
      "source": [
        "# Add apostrophes (') on either side of the path if there are spaces in any of your path names.\n",
        "MODEL_PATH = \"/content/deepsea-detector/models/deepsea-detector.pt\"\n",
        "VIDEO_INPUT_PATH = \"/content/deepsea-detector/data/test_input_video/coral_trimmed.mp4\"\n",
        "VIDEO_OUTPUT_PATH = \"single_out.mp4\"\n",
        "CSV_OUTPUT_PATH = \"single_out.csv\"\n",
        "\n",
        "!python deepsea-detector/src/detection.py {VIDEO_INPUT_PATH} \\\n",
        "--detector_path {MODEL_PATH} \\\n",
        "--img_size 640 \\\n",
        "--conf_thres 0.10 \\\n",
        "--period 3 \\\n",
        "--device cuda \\\n",
        "--output_video {VIDEO_OUTPUT_PATH} \\\n",
        "--output_csv {CSV_OUTPUT_PATH}"
      ],
      "metadata": {
        "id": "EM3XWAcANkvb"
      },
      "execution_count": null,
      "outputs": []
    },
    {
      "cell_type": "markdown",
      "source": [
        "### Processing Multiple Videos:\n",
        "Deepsea-Detector can also process multiple video files at once. To do this, you'll need to define an **output folder** and a **prefix** for the produced MP4 video files, instead of a single video output.\n",
        "\n",
        "The CSV data will be merged into a single file."
      ],
      "metadata": {
        "id": "Zl0oisy5wx3D"
      }
    },
    {
      "cell_type": "code",
      "source": [
        "MODEL_PATH = \"deepsea-detector/models/deepsea-detector.pt\"\n",
        "# Include a space between each video you want to process.\n",
        "VIDEO_INPUT_PATHS = \"deepsea-detector/data/test_input_video/coral_trimmed.mp4 deepsea-detector/data/test_input_video/shrimp_trimmed.mp4\"\n",
        "VIDEO_OUTPUT_FOLDER = \"example_output\"\n",
        "VIDEO_OUTPUT_PREFIX = \"multi_out_\"\n",
        "CSV_OUTPUT_PATH = \"multi_out.csv\"\n",
        "\n",
        "# Make an directory called example_output\n",
        "!mkdir example_output\n",
        "# Run the script for multiple input videos\n",
        "!python deepsea-detector/src/detection.py {VIDEO_INPUT_PATHS} \\\n",
        "--detector_path {MODEL_PATH} \\\n",
        "--img_size 640 \\\n",
        "--conf_thres 0.10 \\\n",
        "--period 3 \\\n",
        "--device cuda \\\n",
        "--output_folder {VIDEO_OUTPUT_FOLDER} \\\n",
        "--output_video_prefix {VIDEO_OUTPUT_PREFIX} \\\n",
        "--output_csv {CSV_OUTPUT_PATH}"
      ],
      "metadata": {
        "id": "GKAP8r-kyPih"
      },
      "execution_count": null,
      "outputs": []
    }
  ]
}