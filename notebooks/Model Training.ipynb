{
  "nbformat": 4,
  "nbformat_minor": 0,
  "metadata": {
    "colab": {
      "name": "MATE 2022 ML Challenge Model Training",
      "provenance": [],
      "collapsed_sections": [],
      "include_colab_link": true
    },
    "kernelspec": {
      "name": "python3",
      "display_name": "Python 3"
    },
    "language_info": {
      "name": "python"
    },
    "accelerator": "GPU"
  },
  "cells": [
    {
      "cell_type": "markdown",
      "metadata": {
        "id": "view-in-github",
        "colab_type": "text"
      },
      "source": [
        "<a href=\"https://colab.research.google.com/github/ShrimpCryptid/deepsea-detector/blob/main/notebooks/Model%20Training.ipynb\" target=\"_parent\"><img src=\"https://colab.research.google.com/assets/colab-badge.svg\" alt=\"Open In Colab\"/></a>"
      ]
    },
    {
      "cell_type": "markdown",
      "source": [
        "# Model Training\n",
        "#### Peyton Lee and Neha Nagvekar, 5/31/22\n",
        "\n",
        "Trains a Yolov5x model on the provided annotations, using the pretrained weights from the FathomNet Yolov5x. \n",
        "\n"
      ],
      "metadata": {
        "id": "LVLpUL-Tv24T"
      }
    },
    {
      "cell_type": "markdown",
      "source": [
        "## Environment Setup\n",
        "We need to download/install the following:\n",
        "- The [Yolov5](https://github.com/ultralytics/yolov5) repository.\n",
        "- The [FathomNet YOLOv5x model](https://github.com/fathomnet/models) we'll be getting pretrained weights from\n",
        "- The [custom RoboFlow dataset](https://app.roboflow.com/uwrov-2022-ml-challenge/deepsea-detect--mate-2022-ml-challenge) we put together, edited from data provided by NOAA Ocean Exploration!"
      ],
      "metadata": {
        "id": "Y6G4RG5Mwayu"
      }
    },
    {
      "cell_type": "code",
      "source": [
        "BASE_MODEL_URL = \"https://zenodo.org/record/5539915/files/mbari-mb-benthic-33k.pt?download=1\"\n",
        "BASE_MODEL_PATH = \"/content/mbari-mb-benthic-33k.pt\"\n",
        "\n",
        "NEW_MODEL = \"test_training_datasetv1_modelv1.pt\"\n",
        "NEW_MODEL_PATH = \"/content/yolov5/models/{}\".format(NEW_MODEL)\n",
        "\n",
        "# NOTE: You may need to go to\n",
        "# https://app.roboflow.com/uwrov-2022-ml-challenge/deepsea-detect--mate-2022-ml-challenge\n",
        "# and generate your own download code. Make sure to select the YOLOv5 export option. \n",
        "ROBOFLOW_DATA_URL = \"\""
      ],
      "metadata": {
        "id": "sOd5dnySyR4T"
      },
      "execution_count": null,
      "outputs": []
    },
    {
      "cell_type": "code",
      "source": [
        "# Download the Yolov5 repository.\n",
        "!git clone https://github.com/ultralytics/yolov5\n",
        "\n",
        "# Install all base requirements for YOLOv5.\n",
        "!pip install -r yolov5/requirements.txt wandb\n"
      ],
      "metadata": {
        "id": "dEQzD8B4waWb"
      },
      "execution_count": null,
      "outputs": []
    },
    {
      "cell_type": "code",
      "source": [
        "# Download the MBARI FathomNet YOLOv5 Model:\n",
        "!curl https://zenodo.org/record/5539915/files/mbari-mb-benthic-33k.pt?download=1 -o {BASE_MODEL_PATH}\n",
        "\n",
        "# Make a copy of the base model-- this will be what we train!\n",
        "!cp {BASE_MODEL_PATH} {NEW_MODEL_PATH}"
      ],
      "metadata": {
        "id": "DoQPKeTNxrEN"
      },
      "execution_count": null,
      "outputs": []
    },
    {
      "cell_type": "code",
      "execution_count": null,
      "metadata": {
        "id": "Fjmo0E1UvvYc"
      },
      "outputs": [],
      "source": [
        "# Set up the directory structure and download our dataset from RoboFlow.\n",
        "!mkdir datasets\n",
        "# Download and extract the Roboflow data.\n",
        "!curl -L {ROBOFLOW_DATA_URL} > datasets/roboflow.zip; cd datasets; unzip roboflow.zip; rm roboflow.zip; cd .."
      ]
    },
    {
      "cell_type": "code",
      "source": [
        "!ls datasets/"
      ],
      "metadata": {
        "id": "b6QJUwq502NG"
      },
      "execution_count": null,
      "outputs": []
    },
    {
      "cell_type": "code",
      "source": [
        "# Add the RoboFlow dataset as a .yaml file so YOLO knows where to find the data.\n",
        "relative_dataset_path = \"../datasets\"\n",
        "yaml_contents = \"\"\"train: {0}/train/images\n",
        "val: {0}/valid/images\n",
        "test: {0}/test/images\n",
        "\n",
        "nc: 9\n",
        "names: ['annelida', 'arthropoda', 'cnidaria', 'echinodermata', 'fish', 'mollusca', 'other-invertebrates', 'porifera', 'unidentified-biology']\"\"\".format(relative_dataset_path)\n",
        "\n",
        "yaml_file_name = \"DeepseaDetectorDataset.yaml\"\n",
        "yaml_file_path = \"yolov5/data/{}\".format(yaml_file_name)\n",
        "!touch {yaml_file_path}\n",
        "with open(yaml_file_path, 'w') as file:\n",
        "  file.write(yaml_contents)\n",
        "\n",
        "!cat {yaml_file_path}"
      ],
      "metadata": {
        "id": "OoHLHiUqz9AD"
      },
      "execution_count": null,
      "outputs": []
    },
    {
      "cell_type": "markdown",
      "source": [
        "## Running the Training"
      ],
      "metadata": {
        "id": "t3nQWZx03iQu"
      }
    },
    {
      "cell_type": "code",
      "source": [
        "# Feel free to tweak these to suit your needs!\n",
        "batch_size = 48\n",
        "freeze = 24  # Freezes this many layers, exclusive. (Layers 0-23 will be frozen.)\n",
        "image_size = 640  # The height and width of our images. YOLO requires squares!\n",
        "weights = NEW_MODEL_PATH  # The model weights to train.\n",
        "data = yaml_file_name  # The name of the dataset .yaml file.\n",
        "epochs = 12  # The number of times our training dataset is repeated.\n",
        "\n",
        "# This command is where the magic happens!\n",
        "!cd yolov5; python3 train.py --batch {batch_size} --freeze {freeze} --weights {weights} \\\n",
        " --data {data} --epochs {epochs} --cache --img {image_size}\n",
        "\n",
        " # Follow the prompts to set up a Weights & Biases experiment (W&B) if you'd like."
      ],
      "metadata": {
        "id": "OBimTibA2lE9"
      },
      "execution_count": null,
      "outputs": []
    }
  ]
}